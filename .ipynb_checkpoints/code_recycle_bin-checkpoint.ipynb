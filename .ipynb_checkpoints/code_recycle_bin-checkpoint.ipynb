{
 "cells": [
  {
   "cell_type": "markdown",
   "id": "bac34d78",
   "metadata": {},
   "source": [
    "### Extracting from Multiple sheets"
   ]
  },
  {
   "cell_type": "code",
   "execution_count": null,
   "id": "1add56c4",
   "metadata": {},
   "outputs": [],
   "source": [
    "df = pd.read_excel(filepath, sheet_name = 'pla')\n",
    "plant_genus = {i: df['plant_ge'].to_numpy()[i] for i in range(len(df['plant_ge']))}\n",
    "plant_species = {i: df['plant_sp'].to_numpy()[i] for i in range(len(df['plant_sp']))}\n",
    "df = pd.read_excel(filepath, sheet_name = 'pol')\n",
    "#pollenator_species = "
   ]
  },
  {
   "cell_type": "markdown",
   "id": "7b97d20c",
   "metadata": {},
   "source": [
    "Originally thought odd even would give you the interaction pairs but its not the case  \n",
    "The use indented structure"
   ]
  },
  {
   "cell_type": "code",
   "execution_count": null,
   "id": "5d8a5f28",
   "metadata": {},
   "outputs": [],
   "source": [
    "## Plants\n",
    "df = pd.read_excel(filepath, sheet_name = 'pla+pol', skiprows=lambda x: x%2 == 0, header=None, names=['N', 'plant'])\n",
    "df"
   ]
  },
  {
   "cell_type": "code",
   "execution_count": null,
   "id": "79038cc2",
   "metadata": {},
   "outputs": [],
   "source": [
    "#pollenators\n",
    "df = pd.read_excel(filepath, sheet_name = 'pla+pol', skiprows=lambda x: x%2 != 0, header=None, names=['N', 'pollenator'])\n",
    "df"
   ]
  },
  {
   "cell_type": "markdown",
   "id": "60083ece",
   "metadata": {},
   "source": [
    "#### Data Extraction drafts"
   ]
  },
  {
   "cell_type": "code",
   "execution_count": null,
   "id": "bca1e295",
   "metadata": {},
   "outputs": [],
   "source": [
    "## encodeing\n",
    "f = open(\"data_numeric.txt\", \"w\")\n",
    "f2 = open(\"data_text.txt\", \"w\")\n",
    "\n",
    "array=df.to_numpy()\n",
    "rows, cols = array.shape\n",
    "count=0\n",
    "\n",
    "#print('*Bipartite 4')\n",
    "for row in range(rows):\n",
    "    for col in range(len(array[row])):\n",
    "        #if array[row][col]!=0:\n",
    "            #for i in range(array[row][col]): \n",
    "                #print(poll_species[row], plant_species[col])\n",
    "        f.write(str(cols+poll_num[row])+' '+ str(col)+ ' '+ str(array[row][col]) +'\\n')\n",
    "        f2.write(poll_species[row]+' '+ plant_species[col]+ ' '+  str(array[row][col])+ '\\n')\n",
    "            #    count+=1\n",
    "f.close()\n",
    "f2.close()"
   ]
  },
  {
   "cell_type": "code",
   "execution_count": null,
   "id": "29d28ef6",
   "metadata": {},
   "outputs": [],
   "source": [
    "df = pd.read_excel(filepath, sheet_name = 'matr')\n",
    "plant_genus = df.columns[2::] #skip the overlap bit \n",
    "df = pd.read_excel(filepath, sheet_name = 'matr',skiprows=1)\n",
    "plant_species = df.columns[2::]"
   ]
  },
  {
   "cell_type": "markdown",
   "id": "fb635e54",
   "metadata": {},
   "source": [
    "### Pandas "
   ]
  },
  {
   "cell_type": "code",
   "execution_count": null,
   "id": "aa876311",
   "metadata": {},
   "outputs": [],
   "source": [
    "df_slim=df.drop(columns = ['plant_sp'])\n",
    "df_slim.drop('0')\n",
    "df_slim"
   ]
  }
 ],
 "metadata": {
  "kernelspec": {
   "display_name": "Python [conda env:msim]",
   "language": "python",
   "name": "conda-env-msim-py"
  },
  "language_info": {
   "codemirror_mode": {
    "name": "ipython",
    "version": 3
   },
   "file_extension": ".py",
   "mimetype": "text/x-python",
   "name": "python",
   "nbconvert_exporter": "python",
   "pygments_lexer": "ipython3",
   "version": "3.10.9"
  }
 },
 "nbformat": 4,
 "nbformat_minor": 5
}
