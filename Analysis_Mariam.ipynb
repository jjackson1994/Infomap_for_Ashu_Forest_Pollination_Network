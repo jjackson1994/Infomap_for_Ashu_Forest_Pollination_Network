{
  "nbformat": 4,
  "nbformat_minor": 0,
  "metadata": {
    "colab": {
      "provenance": []
    },
    "kernelspec": {
      "name": "python3",
      "display_name": "Python 3"
    },
    "language_info": {
      "name": "python"
    }
  },
  "cells": [
    {
      "cell_type": "code",
      "source": [
        "#working from Google colab\n",
        "#!pip install infomap"
      ],
      "metadata": {
        "id": "mXV4RVs9jhHP"
      },
      "execution_count": 64,
      "outputs": []
    },
    {
      "cell_type": "code",
      "source": [
        "from infomap import Infomap\n",
        "import pandas as pd\n",
        "import numpy as np\n",
        "import networkx as nx #will be using to visualizing inside the notebook\n",
        "import matplotlib.pyplot as plt\n",
        "import pathlib\n",
        "np.random.seed(0)"
      ],
      "metadata": {
        "id": "xljCWrFgOj2d"
      },
      "execution_count": 15,
      "outputs": []
    },
    {
      "cell_type": "code",
      "source": [
        "#!infomap --help"
      ],
      "metadata": {
        "id": "5m2Z_TgKPuUc"
      },
      "execution_count": 65,
      "outputs": []
    },
    {
      "cell_type": "code",
      "source": [
        "trials = 7\n",
        "im_1=Infomap()\n",
        "#im.readInputData()\n",
        "filename = 'num_freq_thr_1'\n",
        "im_1.read_file('num_freq_thr_1', accumulate=False)\n",
        "\n",
        "im_1.run(num_trials=trials)\n",
        "#name = 'test'\n",
        "codelength_1 = im_1.codelengths\n",
        "print(\n",
        "       f\"Found {im_1.max_depth} levels with {im_1.num_leaf_modules} leaf modules in {im_1.num_top_modules} top modules and codelength: {im_1.codelength:.8f} bits\"\n",
        " )\n",
        "print(f\"All codelengths:\", codelength_1)\n",
        "\n",
        "#print(\"Tree:\\n# path node_id module_id flow\")\n",
        "\n",
        "\n",
        "# pathlib.Path(\"output\").mkdir(exist_ok=True)\n",
        "# print(f\"Writing top level modules to output/{name}.clu...\")\n",
        "# im_1.write(f\"output/{name}.clu\")\n",
        "\n",
        "# print(f\"Writing second level modules to output/{name}_level2.clu...\")\n",
        "# im_1.write(f\"output/{name}_level2.clu\", depth_level=2)\n",
        "\n",
        "# print(f\"Writing bottom level modules to output/{name}_level-1.clu...\")\n",
        "# im_1.write(f\"output/{name}_level-1.clu\", depth_level=-1)\n",
        "\n",
        "# print(f\"Writing tree to output/{name}.tree...\")\n",
        "# im_1.write(f\"output/{name}.tree\")\n",
        "\n",
        "# print(\"Read back .clu file and only calculate codelength...\")\n",
        "# im2 = Infomap(\n",
        "#     silent=True, two_level=True, no_infomap=True, cluster_data=f\"output/{name}.clu\"\n",
        "# )\n",
        "# im2.read_file(filename)\n",
        "# im2.run()\n",
        "# print(\n",
        "#     f\"Found {im2.max_depth} levels with {im2.num_top_modules} top modules and codelength: {im2.codelength:.8f} bits\"\n",
        "# )\n",
        "\n",
        "# print(\"Done!\")"
      ],
      "metadata": {
        "colab": {
          "base_uri": "https://localhost:8080/"
        },
        "id": "-ZxpKvkenaqc",
        "outputId": "491cedc9-ee78-4578-9dcc-ea6820c3cea5"
      },
      "execution_count": 52,
      "outputs": [
        {
          "output_type": "stream",
          "name": "stdout",
          "text": [
            "Found 3 levels with 38 leaf modules in 37 top modules and codelength: 5.43421352 bits\n",
            "All codelengths: (5.437179508827913, 5.44118995997627, 5.437005634685901, 5.43452758253349, 5.434213522066828, 5.43452758253349, 5.440482157128201)\n"
          ]
        }
      ]
    },
    {
      "cell_type": "code",
      "source": [
        "def runinfomap(trials,filename):\n",
        "\n",
        "  im = Infomap()\n",
        "  im.read_file(filename, accumulate=False)\n",
        "  im.run(num_trials=trials)\n",
        "  codelength = im.codelengths\n",
        "  levels = im.max_depth\n",
        "  modules = im.num_leaf_modules\n",
        "  return codelength, levels, modules"
      ],
      "metadata": {
        "id": "SX79fxYcSYWu"
      },
      "execution_count": 3,
      "outputs": []
    },
    {
      "cell_type": "code",
      "source": [
        "trials = 5\n",
        "filenames = []\n",
        "codelengths = []\n",
        "levels = []\n",
        "modules = []\n",
        "for i in range(0,16):\n",
        "  filenames.append('num_freq_thr_'+str(i))\n",
        "\n",
        "for f in filenames:\n",
        "  codelength, level, module = runinfomap(trials,f)\n",
        "  codelengths.append(codelength)\n",
        "  levels.append(level)\n",
        "  modules.append(module)\n"
      ],
      "metadata": {
        "id": "X5hsBDu9QyOG"
      },
      "execution_count": 27,
      "outputs": []
    },
    {
      "cell_type": "code",
      "source": [
        "def cut_poll(filename,ID):\n",
        "  df = pd.read_csv(filename,delimiter=' ', names = ['poll_ID', 'plant_ID', 'freq'])\n",
        "  df_subset = df.loc[df['poll_ID'] == ID]\n",
        "  df_new = df.merge(df_subset, how='left', indicator=True)\n",
        "  df_new = df_new[df_new['_merge'] == 'left_only']\n",
        "  df_new = df_new.drop(columns = ['_merge'])\n",
        "  df = df_new\n",
        "  df.to_csv('rm_pol'+str(ID)+'_'+str(filename),sep = ' ',index=False, header = False)\n",
        "  return str('rm_pol'+str(ID)+'_'+str(filename))\n"
      ],
      "metadata": {
        "id": "pc2cy4OtUIsc"
      },
      "execution_count": 54,
      "outputs": []
    },
    {
      "cell_type": "code",
      "source": [
        "def cut_plant(filename,ID):\n",
        "  df = pd.read_csv(filename,delimiter=' ', names = ['poll_ID', 'plant_ID', 'freq'])\n",
        "  df_subset = df.loc[df['poll_ID'] == ID]\n",
        "  df_new = df.merge(df_subset, how='left', indicator=True)\n",
        "  df_new = df_new[df_new['_merge'] == 'left_only']\n",
        "  df_new = df_new.drop(columns = ['_merge'])\n",
        "  df = df_new\n",
        "  df.to_csv('rm_plant'+str(ID)+'_'+str(filename),sep = ' ',index=False,header = False)\n",
        "  return str('rm_plant'+str(ID)+'_'+str(filename))"
      ],
      "metadata": {
        "id": "SgZfrX3tlJrO"
      },
      "execution_count": 55,
      "outputs": []
    },
    {
      "cell_type": "code",
      "source": [
        "#take one random, one most frequent, one least frequent plant and pollinator to kill\n",
        "df = pd.read_csv('num_freq_thr_0',delimiter=' ', names= ['poll_ID', 'plant_ID','freq'])\n",
        "pol_IDS = df['poll_ID'].unique()\n",
        "plant_IDS = df['plant_ID'].unique()\n",
        "pol_rand_ID = np.random.choice(pol_IDS)\n",
        "plant_rand_ID = np.random.choice(plant_IDS)\n",
        "poll_max = df['poll_ID'].value_counts().idxmax()\n",
        "poll_min = df['poll_ID'].value_counts().idxmin()\n",
        "plant_max = df['plant_ID'].value_counts().idxmax()\n",
        "plant_min = df['plant_ID'].value_counts().idxmin()\n",
        "pols = [pol_rand_ID,poll_max,poll_min]\n",
        "plants = [plant_rand_ID,plant_max, plant_min]\n"
      ],
      "metadata": {
        "id": "FCW_lLgbO7g8"
      },
      "execution_count": 56,
      "outputs": []
    },
    {
      "cell_type": "code",
      "source": [
        "#create data files after killing\n",
        "new_fnames_pols = [] #store the new filenames here\n",
        "new_fnames_plants = []\n",
        "for pol_ID in pols:\n",
        "  new_fnames_pols.append(cut_poll(\"num_freq_thr_0\",pol_ID))\n",
        "for plant_ID in plants:\n",
        "  new_fnames_plants.append(cut_plant(\"num_freq_thr_0\",plant_ID))\n"
      ],
      "metadata": {
        "id": "-dWiZhXx62Nj"
      },
      "execution_count": 57,
      "outputs": []
    },
    {
      "cell_type": "code",
      "source": [
        "codelengths_1 = [] #1 = killed pollinators, 2 = killed plants\n",
        "codelengths_2 = []\n",
        "levels_1 = []\n",
        "levels_2 = []\n",
        "modules_1 = []\n",
        "modules_2 = []\n",
        "\n",
        "for f_1 in new_fnames_pols:\n",
        "  codelength, level, module = runinfomap(trials,f_1)\n",
        "  codelengths_1.append(codelength)\n",
        "  levels_1.append(level)\n",
        "  modules_1.append(module)\n",
        "for f_2 in new_fnames_plants:\n",
        "  codelength, level, module = runinfomap(trials,f_2)\n",
        "  codelengths_2.append(codelength)\n",
        "  levels_2.append(level)\n",
        "  modules_2.append(module)\n",
        "#to-do: analysis with this data"
      ],
      "metadata": {
        "id": "OxZ76CI08Y6Q"
      },
      "execution_count": 58,
      "outputs": []
    },
    {
      "cell_type": "code",
      "source": [
        "#radnom tests not important\n",
        "df_test1 = pd.read_csv(\"num_freq_thr_1\",delimiter=' ', names = ['poll_ID', 'plant_ID', 'freq'])\n",
        "df_test1\n",
        "df_subset = df_test1.loc[df_test1['plant_ID'] ==df_test1['plant_ID'].value_counts().idxmax() ]\n",
        "\n",
        "df_new = df_test1.merge(df_subset, how='left', indicator=True)\n",
        "df_new = df_new[df_new['_merge'] == 'left_only']\n",
        "df_new = df_new.drop(columns = ['_merge'])\n",
        "df_test1 = df_new\n",
        "df_subset.shape\n",
        ""
      ],
      "metadata": {
        "colab": {
          "base_uri": "https://localhost:8080/"
        },
        "id": "hiVU9boKU203",
        "outputId": "654f8e28-c9b6-43c2-a195-a983b9c805ea"
      },
      "execution_count": 22,
      "outputs": [
        {
          "output_type": "execute_result",
          "data": {
            "text/plain": [
              "(189, 3)"
            ]
          },
          "metadata": {},
          "execution_count": 22
        }
      ]
    },
    {
      "cell_type": "markdown",
      "source": [],
      "metadata": {
        "id": "cWpbIUNB10oN"
      }
    }
  ]
}