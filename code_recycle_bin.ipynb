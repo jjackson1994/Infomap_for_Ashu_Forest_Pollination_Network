{
 "cells": [
  {
   "cell_type": "markdown",
   "id": "f87b7055",
   "metadata": {},
   "source": [
    "### Extracting from Multiple sheets\n",
    "#### Get the integer encoding from excel"
   ]
  },
  {
   "cell_type": "code",
   "execution_count": null,
   "id": "7851eb7d",
   "metadata": {},
   "outputs": [],
   "source": [
    "df = pd.read_excel(filepath, sheet_name = 'pla')\n",
    "plant_genus = {i: df['plant_ge'].to_numpy()[i] for i in range(len(df['plant_ge']))}\n",
    "plant_species = {i: df['plant_sp'].to_numpy()[i] for i in range(len(df['plant_sp']))}\n",
    "df = pd.read_excel(filepath, sheet_name = 'pol')\n",
    "#pollenator_species = \n",
    "\n",
    "pol_ge_sp_dict={df['no.'].to_numpy()[i] : df['pol_ge_sp'].to_numpy()[i] for i in range(0,len(df['no.'].to_numpy()))}\n"
   ]
  },
  {
   "cell_type": "markdown",
   "id": "5a18eab5",
   "metadata": {},
   "source": [
    "Originally thought odd even would give you the interaction pairs but its not the case  \n",
    "The use indented structure"
   ]
  },
  {
   "cell_type": "code",
   "execution_count": null,
   "id": "0aedf21a",
   "metadata": {},
   "outputs": [],
   "source": [
    "## Plants\n",
    "df = pd.read_excel(filepath, sheet_name = 'pla+pol', skiprows=lambda x: x%2 == 0, header=None, names=['N', 'plant'])\n",
    "df"
   ]
  },
  {
   "cell_type": "code",
   "execution_count": null,
   "id": "0a9caadc",
   "metadata": {},
   "outputs": [],
   "source": [
    "#pollenators\n",
    "df = pd.read_excel(filepath, sheet_name = 'pla+pol', skiprows=lambda x: x%2 != 0, header=None, names=['N', 'pollenator'])\n",
    "df"
   ]
  },
  {
   "cell_type": "markdown",
   "id": "234d3c12",
   "metadata": {},
   "source": [
    "#### Data Extraction drafts"
   ]
  },
  {
   "cell_type": "code",
   "execution_count": null,
   "id": "61192364",
   "metadata": {},
   "outputs": [],
   "source": [
    "## encodeing\n",
    "f = open(\"data_numeric.txt\", \"w\")\n",
    "f2 = open(\"data_text.txt\", \"w\")\n",
    "\n",
    "array=df.to_numpy()\n",
    "rows, cols = array.shape\n",
    "count=0\n",
    "\n",
    "#print('*Bipartite 4')\n",
    "for row in range(rows):\n",
    "    for col in range(len(array[row])):\n",
    "        #if array[row][col]!=0:\n",
    "            #for i in range(array[row][col]): \n",
    "                #print(poll_species[row], plant_species[col])\n",
    "        f.write(str(cols+poll_num[row])+' '+ str(col)+ ' '+ str(array[row][col]) +'\\n')\n",
    "        f2.write(poll_species[row]+' '+ plant_species[col]+ ' '+  str(array[row][col])+ '\\n')\n",
    "            #    count+=1\n",
    "f.close()\n",
    "f2.close()"
   ]
  },
  {
   "cell_type": "code",
   "execution_count": null,
   "id": "8633e061",
   "metadata": {},
   "outputs": [],
   "source": [
    "df = pd.read_excel(filepath, sheet_name = 'matr')\n",
    "plant_genus = df.columns[2::] #skip the overlap bit \n",
    "df = pd.read_excel(filepath, sheet_name = 'matr',skiprows=1)\n",
    "plant_species = df.columns[2::]"
   ]
  },
  {
   "cell_type": "markdown",
   "id": "73866af4",
   "metadata": {},
   "source": [
    "### Pandas "
   ]
  },
  {
   "cell_type": "code",
   "execution_count": null,
   "id": "9bbeaccc",
   "metadata": {},
   "outputs": [],
   "source": [
    "df_slim=df.drop(columns = ['plant_sp'])\n",
    "df_slim.drop('0')\n",
    "df_slim"
   ]
  },
  {
   "cell_type": "code",
   "execution_count": null,
   "id": "a7ba514e",
   "metadata": {},
   "outputs": [],
   "source": [
    "threshold_freq = 6\n",
    "# maybe add pertibations\n",
    "# text format looks redundent, I think we need to add the labels as attributes\n",
    "\n",
    "f = open(\"data/data_num_\"+\"freq_thr_\"+str(threshold_freq), \"w\") #Data with the text label\n",
    "f2 = open(\"data/data_text_\"+\"freq_thr_\"+str(threshold_freq), \"w\")\n",
    "f_bi = open(\"data/data_text_\"+\"freq_thr_BI\"+str(threshold_freq), \"w\")\n",
    "array=df.to_numpy()\n",
    "rows, cols = array.shape\n",
    "\n",
    "#pollenators, plants\n",
    "nodes, features  = {}, {}, # trying the bipartite format\n",
    "verticies= {}\n",
    "network = ''\n",
    "\n",
    "feature_num, pol_num = 0,0\n",
    "for row in range(rows):\n",
    "    for col in range(len(array[row])):\n",
    "        if array[row][col]>threshold_freq:\n",
    "            pol_num = cols+poll_num[row] #making the numbers unique \n",
    "            nodes[str(pol_num)] =  poll_species[row]\n",
    "            features[str(col)] =  plant_species[col]\n",
    "            interaction = str(pol_num)+' '+ str(col)+ ' '+ str(array[row][col]) +'\\n'\n",
    "            network += interaction\n",
    "            f.write(interaction)\n",
    "            f2.write(poll_species[row]+' '+ plant_species[col]+ ' '+  str(array[row][col])+ '\\n')\n",
    "f.write(interaction)\n",
    "f.close()\n",
    "f2.close()\n",
    "\n",
    "\n",
    "f_bi.write('\\n*Vertices '+str(len(nodes)+len(features))+'\\n')\n",
    "for key in nodes:\n",
    "    f_bi.write(key+'\"'+ nodes[key]+'\" \\n')\n",
    "for key in features:\n",
    "    f_bi.write(key+'\"'+ features[key]+'\" \\n')\n",
    "\n",
    "f_bi.write('\\n*Bipartite '+str(len(nodes))+'\\n')\n",
    "f_bi.write(network)\n",
    "f_bi.close()"
   ]
  }
 ],
 "metadata": {
  "kernelspec": {
   "display_name": "Python [conda env:msim]",
   "language": "python",
   "name": "conda-env-msim-py"
  },
  "language_info": {
   "codemirror_mode": {
    "name": "ipython",
    "version": 3
   },
   "file_extension": ".py",
   "mimetype": "text/x-python",
   "name": "python",
   "nbconvert_exporter": "python",
   "pygments_lexer": "ipython3",
   "version": "3.10.9"
  }
 },
 "nbformat": 4,
 "nbformat_minor": 5
}
