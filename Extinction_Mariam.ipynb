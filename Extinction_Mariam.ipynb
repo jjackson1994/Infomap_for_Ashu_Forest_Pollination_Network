{
  "nbformat": 4,
  "nbformat_minor": 0,
  "metadata": {
    "colab": {
      "provenance": [],
      "toc_visible": true,
      "authorship_tag": "ABX9TyP91wN4VNRzBDT9IyFOPCaE",
      "include_colab_link": true
    },
    "kernelspec": {
      "name": "python3",
      "display_name": "Python 3"
    },
    "language_info": {
      "name": "python"
    }
  },
  "cells": [
    {
      "cell_type": "markdown",
      "metadata": {
        "id": "view-in-github",
        "colab_type": "text"
      },
      "source": [
        "<a href=\"https://colab.research.google.com/github/jjackson1994/Information_Theory/blob/main/Extinction_Mariam.ipynb\" target=\"_parent\"><img src=\"https://colab.research.google.com/assets/colab-badge.svg\" alt=\"Open In Colab\"/></a>"
      ]
    },
    {
      "cell_type": "code",
      "source": [
        "#working from Google colab\n",
        "!pip install infomap"
      ],
      "metadata": {
        "colab": {
          "base_uri": "https://localhost:8080/"
        },
        "id": "mXV4RVs9jhHP",
        "outputId": "c0349490-2cee-4de9-fe36-549df274d9ba"
      },
      "execution_count": null,
      "outputs": [
        {
          "output_type": "stream",
          "name": "stdout",
          "text": [
            "Collecting infomap\n",
            "  Downloading infomap-2.7.1.tar.gz (263 kB)\n",
            "\u001b[2K     \u001b[90m━━━━━━━━━━━━━━━━━━━━━━━━━━━━━━━━━━━━━━━\u001b[0m \u001b[32m263.1/263.1 kB\u001b[0m \u001b[31m2.8 MB/s\u001b[0m eta \u001b[36m0:00:00\u001b[0m\n",
            "\u001b[?25h  Preparing metadata (setup.py) ... \u001b[?25l\u001b[?25hdone\n",
            "Building wheels for collected packages: infomap\n",
            "  Building wheel for infomap (setup.py) ... \u001b[?25l\u001b[?25hdone\n",
            "  Created wheel for infomap: filename=infomap-2.7.1-cp310-cp310-linux_x86_64.whl size=7690305 sha256=cb068d0af156704d76361ef8fe611bacd5f64b52d43ae2f6cdc79aaea43b78ad\n",
            "  Stored in directory: /root/.cache/pip/wheels/e4/01/53/fd7c62079098140cd582b999592b4592c0dad7300cac32b6e1\n",
            "Successfully built infomap\n",
            "Installing collected packages: infomap\n",
            "Successfully installed infomap-2.7.1\n"
          ]
        }
      ]
    },
    {
      "cell_type": "code",
      "source": [
        "from infomap import Infomap\n",
        "import pandas as pd\n",
        "import numpy as np\n",
        "import matplotlib.pyplot as plt\n",
        "import pathlib\n",
        "np.random.seed(0)"
      ],
      "metadata": {
        "id": "xljCWrFgOj2d"
      },
      "execution_count": null,
      "outputs": []
    },
    {
      "cell_type": "code",
      "source": [
        "#!infomap --help"
      ],
      "metadata": {
        "id": "5m2Z_TgKPuUc"
      },
      "execution_count": null,
      "outputs": []
    },
    {
      "cell_type": "code",
      "source": [
        "def runinfomap(trials,filename):\n",
        "\n",
        "  im = Infomap()\n",
        "  im.read_file(filename, accumulate=False)\n",
        "  im.run(num_trials=trials)\n",
        "  codelength = im.codelengths\n",
        "  levels = im.max_depth\n",
        "  modules = im.num_leaf_modules\n",
        "  return codelength, levels, modules"
      ],
      "metadata": {
        "id": "SX79fxYcSYWu"
      },
      "execution_count": null,
      "outputs": []
    },
    {
      "cell_type": "code",
      "source": [
        "#reading the files, change directory if needed\n",
        "trials = 5\n",
        "filenames = []\n",
        "codelengths = []\n",
        "levels = []\n",
        "modules = []\n",
        "for i in range(0,16):\n",
        "  filenames.append('freq_thr_'+str(i))\n",
        "\n",
        "for f in filenames:\n",
        "  codelength, level, module = runinfomap(trials,f)\n",
        "  codelengths.append(codelength)\n",
        "  levels.append(level)\n",
        "  modules.append(module)\n"
      ],
      "metadata": {
        "id": "X5hsBDu9QyOG"
      },
      "execution_count": null,
      "outputs": []
    },
    {
      "cell_type": "markdown",
      "source": [
        "## Killing some plants and pollinators\n"
      ],
      "metadata": {
        "id": "JQd6Pd-hDMu7"
      }
    },
    {
      "cell_type": "code",
      "source": [
        "def cut_poll(filename,ID):\n",
        "  df = pd.read_csv(filename,delimiter=' ', names = ['poll_ID', 'plant_ID', 'freq'])\n",
        "  df_subset = df.loc[df['poll_ID'] == ID]\n",
        "  df_new = df.merge(df_subset, how='left', indicator=True)\n",
        "  df_new = df_new[df_new['_merge'] == 'left_only']\n",
        "  df_new = df_new.drop(columns = ['_merge'])\n",
        "  df = df_new\n",
        "  df.to_csv('rm_pol'+str(ID)+'_'+str(filename),sep = ' ',index=False, header = False)\n",
        "  return str('rm_pol'+str(ID)+'_'+str(filename))\n"
      ],
      "metadata": {
        "id": "pc2cy4OtUIsc"
      },
      "execution_count": null,
      "outputs": []
    },
    {
      "cell_type": "code",
      "source": [
        "def cut_plant(filename,ID):\n",
        "  df = pd.read_csv(filename,delimiter=' ', names = ['poll_ID', 'plant_ID', 'freq'])\n",
        "  df_subset = df.loc[df['poll_ID'] == ID]\n",
        "  df_new = df.merge(df_subset, how='left', indicator=True)\n",
        "  df_new = df_new[df_new['_merge'] == 'left_only']\n",
        "  df_new = df_new.drop(columns = ['_merge'])\n",
        "  df = df_new\n",
        "  df.to_csv('rm_plant'+str(ID)+'_'+str(filename),sep = ' ',index=False,header = False)\n",
        "  return str('rm_plant'+str(ID)+'_'+str(filename))"
      ],
      "metadata": {
        "id": "SgZfrX3tlJrO"
      },
      "execution_count": null,
      "outputs": []
    },
    {
      "cell_type": "code",
      "source": [
        "#take one random, one most frequent, one least frequent plant and pollinator to kill\n",
        "df = pd.read_csv('freq_thr_15',delimiter=' ', names= ['poll_ID', 'plant_ID','freq'])\n",
        "pol_IDS = df['poll_ID'].unique()\n",
        "plant_IDS = df['plant_ID'].unique()\n",
        "pol_rand_ID = np.random.choice(pol_IDS)\n",
        "plant_rand_ID = np.random.choice(plant_IDS)\n",
        "poll_max = df['poll_ID'].value_counts().idxmax()\n",
        "poll_min = df['poll_ID'].value_counts().idxmin()\n",
        "plant_max = df['plant_ID'].value_counts().idxmax()\n",
        "plant_min = df['plant_ID'].value_counts().idxmin()\n",
        "pols = [pol_rand_ID,poll_max,poll_min]\n",
        "plants = [plant_rand_ID,plant_max, plant_min]\n"
      ],
      "metadata": {
        "id": "FCW_lLgbO7g8"
      },
      "execution_count": null,
      "outputs": []
    },
    {
      "cell_type": "code",
      "source": [
        "#create data files after killing\n",
        "new_fnames_pols = [] #store the new filenames here\n",
        "new_fnames_plants = []\n",
        "for pol_ID in pols:\n",
        "  new_fnames_pols.append(cut_poll(\"freq_thr_15\",pol_ID))\n",
        "for plant_ID in plants:\n",
        "  new_fnames_plants.append(cut_plant(\"freq_thr_15\",plant_ID))\n"
      ],
      "metadata": {
        "id": "-dWiZhXx62Nj"
      },
      "execution_count": null,
      "outputs": []
    },
    {
      "cell_type": "code",
      "source": [
        "codelengths_1 = [] #1 = killed pollinators, 2 = killed plants\n",
        "codelengths_2 = []\n",
        "levels_1 = []\n",
        "levels_2 = []\n",
        "modules_1 = []\n",
        "modules_2 = []\n",
        "\n",
        "for f_1 in new_fnames_pols:\n",
        "  codelength, level, module = runinfomap(trials,f_1)\n",
        "  codelengths_1.append(codelength)\n",
        "  levels_1.append(level)\n",
        "  modules_1.append(module)\n",
        "for f_2 in new_fnames_plants:\n",
        "  codelength, level, module = runinfomap(trials,f_2)\n",
        "  codelengths_2.append(codelength)\n",
        "  levels_2.append(level)\n",
        "  modules_2.append(module)\n"
      ],
      "metadata": {
        "id": "OxZ76CI08Y6Q"
      },
      "execution_count": null,
      "outputs": []
    },
    {
      "cell_type": "markdown",
      "source": [],
      "metadata": {
        "id": "cWpbIUNB10oN"
      }
    }
  ]
}